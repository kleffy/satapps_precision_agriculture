{
 "cells": [
  {
   "cell_type": "code",
   "execution_count": 1,
   "metadata": {},
   "outputs": [
    {
     "name": "stdout",
     "output_type": "stream",
     "text": [
      "Collecting sentinelsat\n",
      "  Downloading sentinelsat-0.14-py2.py3-none-any.whl (36 kB)\n",
      "Collecting geomet\n",
      "  Downloading geomet-0.2.1.post1-py3-none-any.whl (18 kB)\n",
      "Requirement already satisfied: requests in c:\\programdata\\anaconda3\\lib\\site-packages (from sentinelsat) (2.23.0)\n",
      "Requirement already satisfied: six in c:\\users\\kleffy\\appdata\\roaming\\python\\python37\\site-packages (from sentinelsat) (1.12.0)\n",
      "Collecting html2text\n",
      "  Downloading html2text-2020.1.16-py3-none-any.whl (32 kB)\n",
      "Collecting geojson>=2\n",
      "  Downloading geojson-2.5.0-py2.py3-none-any.whl (14 kB)\n",
      "Requirement already satisfied: tqdm in c:\\programdata\\anaconda3\\lib\\site-packages (from sentinelsat) (4.44.1)\n",
      "Requirement already satisfied: click in c:\\programdata\\anaconda3\\lib\\site-packages (from sentinelsat) (7.1.1)\n",
      "Requirement already satisfied: chardet<4,>=3.0.2 in c:\\programdata\\anaconda3\\lib\\site-packages (from requests->sentinelsat) (3.0.4)\n",
      "Requirement already satisfied: certifi>=2017.4.17 in c:\\programdata\\anaconda3\\lib\\site-packages (from requests->sentinelsat) (2020.4.5.1)\n",
      "Requirement already satisfied: urllib3!=1.25.0,!=1.25.1,<1.26,>=1.21.1 in c:\\programdata\\anaconda3\\lib\\site-packages (from requests->sentinelsat) (1.25.8)\n",
      "Requirement already satisfied: idna<3,>=2.5 in c:\\programdata\\anaconda3\\lib\\site-packages (from requests->sentinelsat) (2.9)\n",
      "Installing collected packages: geomet, html2text, geojson, sentinelsat\n",
      "Successfully installed geojson-2.5.0 geomet-0.2.1.post1 html2text-2020.1.16 sentinelsat-0.14\n"
     ]
    }
   ],
   "source": [
    "!pip install sentinelsat"
   ]
  },
  {
   "cell_type": "code",
   "execution_count": 1,
   "metadata": {},
   "outputs": [],
   "source": [
    "from sentinelsat import SentinelAPI, read_geojson,geojson_to_wkt\n"
   ]
  },
  {
   "cell_type": "code",
   "execution_count": 2,
   "metadata": {},
   "outputs": [],
   "source": [
    "from datetime import date"
   ]
  },
  {
   "cell_type": "code",
   "execution_count": 3,
   "metadata": {},
   "outputs": [],
   "source": [
    "ds_path = r'D:\\School\\Strathclyde\\EF_900\\Data\\SentinelSatData\\Rice\\S2\\L2' #download storage path"
   ]
  },
  {
   "cell_type": "code",
   "execution_count": 4,
   "metadata": {},
   "outputs": [],
   "source": [
    "username = 'kleffy'\n",
    "password = 'badboy12@ADL'\n",
    "\n",
    "api = SentinelAPI(username, password)"
   ]
  },
  {
   "cell_type": "code",
   "execution_count": 5,
   "metadata": {},
   "outputs": [],
   "source": [
    "#get area of interest\n",
    "footprint = geojson_to_wkt(read_geojson(r'olarm_farms_footprint.geojson'))"
   ]
  },
  {
   "cell_type": "code",
   "execution_count": 6,
   "metadata": {},
   "outputs": [
    {
     "name": "stdout",
     "output_type": "stream",
     "text": [
      "15\n"
     ]
    }
   ],
   "source": [
    "#query resultset\n",
    "products = api.query(footprint,\n",
    "                     date=('20190301', date(2019, 7, 30)),\n",
    "                     platformname='Sentinel-2',\n",
    "                     processinglevel='Level-2A',\n",
    "                     cloudcoverpercentage=(0, 30))\n",
    "print(len(products))"
   ]
  },
  {
   "cell_type": "code",
   "execution_count": 7,
   "metadata": {},
   "outputs": [
    {
     "name": "stderr",
     "output_type": "stream",
     "text": [
      "Downloading: 100%|██████████| 717M/717M [00:36<00:00, 19.4MB/s] \n",
      "MD5 checksumming: 100%|██████████| 717M/717M [00:01<00:00, 434MB/s] \n",
      "Downloading: 100%|██████████| 1.18G/1.18G [00:48<00:00, 24.5MB/s]\n",
      "MD5 checksumming: 100%|██████████| 1.18G/1.18G [00:02<00:00, 394MB/s]\n",
      "Downloading: 100%|██████████| 1.17G/1.17G [00:46<00:00, 25.0MB/s]\n",
      "MD5 checksumming: 100%|██████████| 1.17G/1.17G [00:03<00:00, 379MB/s]\n",
      "Downloading: 100%|██████████| 458M/458M [00:17<00:00, 26.9MB/s] \n",
      "MD5 checksumming: 100%|██████████| 458M/458M [00:01<00:00, 396MB/s] \n",
      "Downloading: 100%|██████████| 722M/722M [00:26<00:00, 27.0MB/s] \n",
      "MD5 checksumming: 100%|██████████| 722M/722M [00:01<00:00, 392MB/s] \n",
      "Downloading: 100%|██████████| 456M/456M [00:17<00:00, 26.5MB/s] \n",
      "MD5 checksumming: 100%|██████████| 456M/456M [00:01<00:00, 400MB/s] \n",
      "Downloading: 100%|██████████| 721M/721M [00:31<00:00, 22.6MB/s] \n",
      "MD5 checksumming: 100%|██████████| 721M/721M [00:01<00:00, 427MB/s] \n",
      "Downloading: 100%|██████████| 1.17G/1.17G [00:46<00:00, 25.0MB/s]\n",
      "MD5 checksumming: 100%|██████████| 1.17G/1.17G [00:02<00:00, 422MB/s]\n",
      "Product 4611621a-48c6-4922-84dd-85e2ccd8a661 is not online. Triggering retrieval from long term archive.\n",
      "Product 9be59e7b-78d2-4a1b-9a41-d74fea044823 is not online. Triggering retrieval from long term archive.\n",
      "Product 8e20ba16-6d53-49fb-9732-ffdb0ccec881 is not online. Triggering retrieval from long term archive.\n",
      "Product 3d398804-396a-4d3a-9534-eb0503c1e89a is not online. Triggering retrieval from long term archive.\n",
      "Product 8991bcf0-959d-4f98-a2d2-9b82b27ab84e is not online. Triggering retrieval from long term archive.\n",
      "Product d5be71ef-1441-4c8d-8aa8-68c693b6b123 is not online. Triggering retrieval from long term archive.\n",
      "Product ef84cc0d-51f8-4461-a967-e7dbc617cfcc is not online. Triggering retrieval from long term archive.\n"
     ]
    }
   ],
   "source": [
    "#downloading the data\n",
    "for i in products:\n",
    "    api.get_product_odata(i)\n",
    "    api.download(i, ds_path)"
   ]
  },
  {
   "cell_type": "code",
   "execution_count": 24,
   "metadata": {},
   "outputs": [],
   "source": [
    "#convert to dataframe\n",
    "products_df = api.to_dataframe(products)"
   ]
  },
  {
   "cell_type": "code",
   "execution_count": 32,
   "metadata": {},
   "outputs": [],
   "source": [
    "#convert to geodataframe\n",
    "#import geopandas\n",
    "#products_gdf = api.to_geodataframe(products)"
   ]
  },
  {
   "cell_type": "code",
   "execution_count": 31,
   "metadata": {},
   "outputs": [
    {
     "data": {
      "text/plain": [
       "(29, 36)"
      ]
     },
     "execution_count": 31,
     "metadata": {},
     "output_type": "execute_result"
    }
   ],
   "source": [
    "products_df.shape"
   ]
  },
  {
   "cell_type": "code",
   "execution_count": null,
   "metadata": {},
   "outputs": [],
   "source": []
  }
 ],
 "metadata": {
  "kernelspec": {
   "display_name": "Python 3.8.2 64-bit",
   "language": "python",
   "name": "python38264bit207e6ce0911b4e3984d5e1810a290e1b"
  },
  "language_info": {
   "codemirror_mode": {
    "name": "ipython",
    "version": 3
   },
   "file_extension": ".py",
   "mimetype": "text/x-python",
   "name": "python",
   "nbconvert_exporter": "python",
   "pygments_lexer": "ipython3",
   "version": "3.8.2"
  }
 },
 "nbformat": 4,
 "nbformat_minor": 4
}
