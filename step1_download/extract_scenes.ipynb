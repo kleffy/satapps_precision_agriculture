{
 "cells": [
  {
   "cell_type": "code",
   "execution_count": 1,
   "metadata": {},
   "outputs": [],
   "source": [
    "import os, zipfile, shutil"
   ]
  },
  {
   "cell_type": "code",
   "execution_count": 2,
   "metadata": {},
   "outputs": [],
   "source": [
    "ds_dir = r'D:\\School\\Strathclyde\\EF_900\\Data\\SentinelSatData\\L2'\n",
    "extension = '.zip'\n",
    "os.chdir(ds_dir)"
   ]
  },
  {
   "cell_type": "code",
   "execution_count": 3,
   "metadata": {},
   "outputs": [],
   "source": [
    "extract_dir = 'extracted'"
   ]
  },
  {
   "cell_type": "code",
   "execution_count": 4,
   "metadata": {},
   "outputs": [
    {
     "name": "stdout",
     "output_type": "stream",
     "text": [
      "D:\\School\\Strathclyde\\EF_900\\Data\\SentinelSatData\\L2\\S2A_MSIL2A_20190617T095031_N0212_R079_T32PLS_20190617T115445.zip\n",
      "D:\\School\\Strathclyde\\EF_900\\Data\\SentinelSatData\\L2\\S2A_MSIL2A_20190617T095031_N0212_R079_T32PLT_20190617T115445.zip\n",
      "D:\\School\\Strathclyde\\EF_900\\Data\\SentinelSatData\\L2\\S2A_MSIL2A_20190617T095031_N0212_R079_T32PMS_20190617T115445.zip\n",
      "D:\\School\\Strathclyde\\EF_900\\Data\\SentinelSatData\\L2\\S2A_MSIL2A_20190617T095031_N0212_R079_T32PMT_20190617T115445.zip\n",
      "D:\\School\\Strathclyde\\EF_900\\Data\\SentinelSatData\\L2\\S2A_MSIL2A_20190627T095031_N0212_R079_T32PMT_20190627T142308.zip\n",
      "D:\\School\\Strathclyde\\EF_900\\Data\\SentinelSatData\\L2\\S2A_MSIL2A_20190707T095031_N0212_R079_T32PLT_20190707T121546.zip\n",
      "D:\\School\\Strathclyde\\EF_900\\Data\\SentinelSatData\\L2\\S2A_MSIL2A_20190717T095041_N0213_R079_T32PLS_20190717T123925.zip\n",
      "D:\\School\\Strathclyde\\EF_900\\Data\\SentinelSatData\\L2\\S2A_MSIL2A_20190717T095041_N0213_R079_T32PLT_20190717T123925.zip\n",
      "D:\\School\\Strathclyde\\EF_900\\Data\\SentinelSatData\\L2\\S2A_MSIL2A_20190717T095041_N0213_R079_T32PMS_20190717T123925.zip\n",
      "D:\\School\\Strathclyde\\EF_900\\Data\\SentinelSatData\\L2\\S2A_MSIL2A_20190717T095041_N0213_R079_T32PMT_20190717T123925.zip\n",
      "D:\\School\\Strathclyde\\EF_900\\Data\\SentinelSatData\\L2\\S2A_MSIL2A_20190727T095031_N0213_R079_T32PMT_20190727T142525.zip\n",
      "D:\\School\\Strathclyde\\EF_900\\Data\\SentinelSatData\\L2\\S2A_MSIL2A_20190813T094031_N0213_R036_T32PMS_20190813T121642.zip\n",
      "D:\\School\\Strathclyde\\EF_900\\Data\\SentinelSatData\\L2\\S2A_MSIL2A_20190813T094031_N0213_R036_T32PMT_20190813T121642.zip\n",
      "D:\\School\\Strathclyde\\EF_900\\Data\\SentinelSatData\\L2\\S2A_MSIL2A_20190912T094031_N0213_R036_T32PMS_20190912T121740.zip\n",
      "D:\\School\\Strathclyde\\EF_900\\Data\\SentinelSatData\\L2\\S2A_MSIL2A_20190912T094031_N0213_R036_T32PMT_20190912T121740.zip\n",
      "D:\\School\\Strathclyde\\EF_900\\Data\\SentinelSatData\\L2\\S2A_MSIL2A_20190922T094031_N0213_R036_T32PMS_20190922T115222.zip\n",
      "D:\\School\\Strathclyde\\EF_900\\Data\\SentinelSatData\\L2\\S2A_MSIL2A_20190925T095031_N0213_R079_T32PLT_20190925T155821.zip\n",
      "D:\\School\\Strathclyde\\EF_900\\Data\\SentinelSatData\\L2\\S2A_MSIL2A_20190925T095031_N0213_R079_T32PMS_20190925T155821.zip\n",
      "D:\\School\\Strathclyde\\EF_900\\Data\\SentinelSatData\\L2\\S2A_MSIL2A_20190925T095031_N0213_R079_T32PMT_20190925T155821.zip\n",
      "D:\\School\\Strathclyde\\EF_900\\Data\\SentinelSatData\\L2\\S2B_MSIL2A_20190609T094039_N0212_R036_T32PMS_20190609T135715.zip\n",
      "D:\\School\\Strathclyde\\EF_900\\Data\\SentinelSatData\\L2\\S2B_MSIL2A_20190609T094039_N0212_R036_T32PMT_20190609T135715.zip\n",
      "D:\\School\\Strathclyde\\EF_900\\Data\\SentinelSatData\\L2\\S2B_MSIL2A_20190612T095039_N0212_R079_T32PLT_20190612T123949.zip\n",
      "D:\\School\\Strathclyde\\EF_900\\Data\\SentinelSatData\\L2\\S2B_MSIL2A_20190629T094039_N0212_R036_T32PMT_20190629T123610.zip\n",
      "D:\\School\\Strathclyde\\EF_900\\Data\\SentinelSatData\\L2\\S2B_MSIL2A_20190808T094039_N0213_R036_T32PMT_20190808T141010.zip\n",
      "D:\\School\\Strathclyde\\EF_900\\Data\\SentinelSatData\\L2\\S2B_MSIL2A_20190831T095039_N0213_R079_T32PLS_20190831T141806.zip\n",
      "D:\\School\\Strathclyde\\EF_900\\Data\\SentinelSatData\\L2\\S2B_MSIL2A_20190831T095039_N0213_R079_T32PLT_20190831T141806.zip\n",
      "D:\\School\\Strathclyde\\EF_900\\Data\\SentinelSatData\\L2\\S2B_MSIL2A_20190831T095039_N0213_R079_T32PMS_20190831T141806.zip\n",
      "D:\\School\\Strathclyde\\EF_900\\Data\\SentinelSatData\\L2\\S2B_MSIL2A_20190831T095039_N0213_R079_T32PMT_20190831T141806.zip\n",
      "D:\\School\\Strathclyde\\EF_900\\Data\\SentinelSatData\\L2\\S2B_MSIL2A_20190927T094029_N0213_R036_T32PMT_20190927T130828.zip\n"
     ]
    }
   ],
   "source": [
    "for item in os.listdir(ds_dir):\n",
    "    if item.endswith(extension):\n",
    "        file_name = os.path.abspath(item)\n",
    "        zip_obj = zipfile.ZipFile(file_name)\n",
    "        print(file_name)\n",
    "        zip_obj.extractall(os.path.join(ds_dir, extract_dir))\n",
    "        zip_obj.close()"
   ]
  },
  {
   "cell_type": "code",
   "execution_count": 5,
   "metadata": {},
   "outputs": [],
   "source": [
    "target_dir = 'target'"
   ]
  },
  {
   "cell_type": "code",
   "execution_count": 6,
   "metadata": {},
   "outputs": [],
   "source": [
    "nir = 'B08_10m'\n",
    "red = 'B04_10m'\n",
    "scl = 'SCL_20m'"
   ]
  },
  {
   "cell_type": "code",
   "execution_count": 7,
   "metadata": {},
   "outputs": [],
   "source": [
    "for root, dirs, files in os.walk(os.path.join(ds_dir, extract_dir)):\n",
    "    for file in files:\n",
    "        if (nir in file) or (red in file) or (scl in file):\n",
    "            if file.endswith('.jp2'):\n",
    "                source_folder = os.path.join(root, file)\n",
    "                shutil.copy2(source_folder, target_dir)"
   ]
  },
  {
   "cell_type": "code",
   "execution_count": null,
   "metadata": {},
   "outputs": [],
   "source": []
  }
 ],
 "metadata": {
  "kernelspec": {
   "display_name": "Python 3.8.2 64-bit",
   "language": "python",
   "name": "python38264bit207e6ce0911b4e3984d5e1810a290e1b"
  },
  "language_info": {
   "codemirror_mode": {
    "name": "ipython",
    "version": 3
   },
   "file_extension": ".py",
   "mimetype": "text/x-python",
   "name": "python",
   "nbconvert_exporter": "python",
   "pygments_lexer": "ipython3",
   "version": "3.8.2"
  }
 },
 "nbformat": 4,
 "nbformat_minor": 4
}
