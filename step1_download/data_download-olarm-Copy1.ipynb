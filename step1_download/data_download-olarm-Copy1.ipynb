{
 "cells": [
  {
   "cell_type": "code",
   "execution_count": 1,
   "metadata": {},
   "outputs": [
    {
     "name": "stdout",
     "output_type": "stream",
     "text": [
      "Collecting sentinelsat\n",
      "  Downloading sentinelsat-0.14-py2.py3-none-any.whl (36 kB)\n",
      "Collecting geomet\n",
      "  Downloading geomet-0.2.1.post1-py3-none-any.whl (18 kB)\n",
      "Requirement already satisfied: requests in c:\\programdata\\anaconda3\\lib\\site-packages (from sentinelsat) (2.23.0)\n",
      "Requirement already satisfied: six in c:\\users\\kleffy\\appdata\\roaming\\python\\python37\\site-packages (from sentinelsat) (1.12.0)\n",
      "Collecting html2text\n",
      "  Downloading html2text-2020.1.16-py3-none-any.whl (32 kB)\n",
      "Collecting geojson>=2\n",
      "  Downloading geojson-2.5.0-py2.py3-none-any.whl (14 kB)\n",
      "Requirement already satisfied: tqdm in c:\\programdata\\anaconda3\\lib\\site-packages (from sentinelsat) (4.44.1)\n",
      "Requirement already satisfied: click in c:\\programdata\\anaconda3\\lib\\site-packages (from sentinelsat) (7.1.1)\n",
      "Requirement already satisfied: chardet<4,>=3.0.2 in c:\\programdata\\anaconda3\\lib\\site-packages (from requests->sentinelsat) (3.0.4)\n",
      "Requirement already satisfied: certifi>=2017.4.17 in c:\\programdata\\anaconda3\\lib\\site-packages (from requests->sentinelsat) (2020.4.5.1)\n",
      "Requirement already satisfied: urllib3!=1.25.0,!=1.25.1,<1.26,>=1.21.1 in c:\\programdata\\anaconda3\\lib\\site-packages (from requests->sentinelsat) (1.25.8)\n",
      "Requirement already satisfied: idna<3,>=2.5 in c:\\programdata\\anaconda3\\lib\\site-packages (from requests->sentinelsat) (2.9)\n",
      "Installing collected packages: geomet, html2text, geojson, sentinelsat\n",
      "Successfully installed geojson-2.5.0 geomet-0.2.1.post1 html2text-2020.1.16 sentinelsat-0.14\n"
     ]
    }
   ],
   "source": [
    "!pip install sentinelsat"
   ]
  },
  {
   "cell_type": "code",
   "execution_count": 1,
   "metadata": {},
   "outputs": [],
   "source": [
    "from sentinelsat import SentinelAPI, read_geojson,geojson_to_wkt\n"
   ]
  },
  {
   "cell_type": "code",
   "execution_count": 2,
   "metadata": {},
   "outputs": [],
   "source": [
    "from datetime import date"
   ]
  },
  {
   "cell_type": "code",
   "execution_count": 3,
   "metadata": {},
   "outputs": [],
   "source": [
    "ds_path = r'D:\\School\\Strathclyde\\EF_900\\Data\\SentinelSatData\\Rice\\Sevilla\\L2' #download storage path"
   ]
  },
  {
   "cell_type": "code",
   "execution_count": 4,
   "metadata": {},
   "outputs": [],
   "source": [
    "username = 'kleffy'\n",
    "password = 'badboy12@ADL'\n",
    "\n",
    "api = SentinelAPI(username, password)"
   ]
  },
  {
   "cell_type": "code",
   "execution_count": 5,
   "metadata": {},
   "outputs": [],
   "source": [
    "#get area of interest\n",
    "footprint = geojson_to_wkt(read_geojson(r'isla_mayor_sevilla_footprint.geojson'))"
   ]
  },
  {
   "cell_type": "code",
   "execution_count": 6,
   "metadata": {},
   "outputs": [
    {
     "name": "stdout",
     "output_type": "stream",
     "text": [
      "87\n"
     ]
    }
   ],
   "source": [
    "#query resultset\n",
    "products = api.query(footprint,\n",
    "                     date=('20190301', date(2019, 7, 30)),\n",
    "                     platformname='Sentinel-2',\n",
    "                     processinglevel='Level-2A',\n",
    "                     cloudcoverpercentage=(0, 30))\n",
    "print(len(products))"
   ]
  },
  {
   "cell_type": "code",
   "execution_count": null,
   "metadata": {},
   "outputs": [
    {
     "name": "stderr",
     "output_type": "stream",
     "text": [
      "Downloading: 100%|██████████| 1.17G/1.17G [00:51<00:00, 22.8MB/s]\n",
      "MD5 checksumming: 100%|██████████| 1.17G/1.17G [00:02<00:00, 434MB/s]\n",
      "Downloading: 100%|██████████| 1.18G/1.18G [00:43<00:00, 27.2MB/s]\n",
      "MD5 checksumming: 100%|██████████| 1.18G/1.18G [00:02<00:00, 449MB/s]\n",
      "Downloading: 100%|██████████| 1.18G/1.18G [00:43<00:00, 27.3MB/s]\n",
      "MD5 checksumming: 100%|██████████| 1.18G/1.18G [00:02<00:00, 425MB/s]\n",
      "Downloading: 100%|██████████| 1.11G/1.11G [00:56<00:00, 19.5MB/s]\n",
      "MD5 checksumming: 100%|██████████| 1.11G/1.11G [00:02<00:00, 410MB/s]   \n",
      "Downloading: 100%|██████████| 1.21G/1.21G [00:44<00:00, 27.1MB/s]\n",
      "MD5 checksumming: 100%|██████████| 1.21G/1.21G [00:10<00:00, 110MB/s] \n",
      "Downloading: 100%|██████████| 1.19G/1.19G [00:44<00:00, 26.8MB/s]\n",
      "MD5 checksumming: 100%|██████████| 1.19G/1.19G [00:14<00:00, 84.1MB/s]  \n",
      "Downloading: 100%|██████████| 1.20G/1.20G [01:04<00:00, 18.8MB/s]\n",
      "MD5 checksumming: 100%|██████████| 1.20G/1.20G [00:04<00:00, 283MB/s] \n",
      "Downloading: 100%|██████████| 1.19G/1.19G [00:45<00:00, 26.1MB/s]\n",
      "MD5 checksumming: 100%|██████████| 1.19G/1.19G [00:02<00:00, 440MB/s]\n",
      "Downloading: 100%|██████████| 1.17G/1.17G [00:45<00:00, 25.4MB/s]\n",
      "MD5 checksumming: 100%|██████████| 1.17G/1.17G [00:11<00:00, 103MB/s]   \n",
      "Downloading: 100%|██████████| 1.19G/1.19G [00:44<00:00, 26.8MB/s]\n",
      "MD5 checksumming: 100%|██████████| 1.19G/1.19G [00:22<00:00, 53.2MB/s]  \n",
      "Downloading: 100%|██████████| 1.11G/1.11G [00:41<00:00, 26.7MB/s]\n",
      "MD5 checksumming: 100%|██████████| 1.11G/1.11G [00:08<00:00, 137MB/s]   \n",
      "Downloading: 100%|██████████| 1.19G/1.19G [01:00<00:00, 19.5MB/s]\n",
      "MD5 checksumming: 100%|██████████| 1.19G/1.19G [00:12<00:00, 94.9MB/s]\n",
      "Downloading: 100%|██████████| 1.19G/1.19G [00:43<00:00, 27.1MB/s]\n",
      "MD5 checksumming: 100%|██████████| 1.19G/1.19G [00:08<00:00, 137MB/s] \n",
      "Downloading: 100%|██████████| 1.16G/1.16G [00:57<00:00, 20.1MB/s]\n",
      "MD5 checksumming: 100%|██████████| 1.16G/1.16G [00:08<00:00, 137MB/s] \n",
      "Downloading: 100%|██████████| 1.21G/1.21G [00:57<00:00, 21.1MB/s]\n",
      "MD5 checksumming: 100%|██████████| 1.21G/1.21G [00:13<00:00, 87.9MB/s]  \n",
      "Downloading: 100%|██████████| 1.21G/1.21G [00:49<00:00, 24.5MB/s]\n",
      "MD5 checksumming: 100%|██████████| 1.21G/1.21G [00:13<00:00, 87.4MB/s]  \n",
      "Downloading: 100%|██████████| 1.19G/1.19G [00:44<00:00, 27.0MB/s]\n",
      "MD5 checksumming: 100%|██████████| 1.19G/1.19G [00:08<00:00, 139MB/s] \n",
      "Downloading: 100%|██████████| 1.12G/1.12G [00:43<00:00, 25.7MB/s]\n",
      "MD5 checksumming: 100%|██████████| 1.12G/1.12G [00:12<00:00, 89.0MB/s]\n",
      "Downloading: 100%|██████████| 1.14G/1.14G [00:52<00:00, 21.9MB/s]\n",
      "MD5 checksumming: 100%|██████████| 1.14G/1.14G [00:09<00:00, 122MB/s] \n",
      "Downloading: 100%|██████████| 1.19G/1.19G [00:44<00:00, 27.0MB/s]\n",
      "MD5 checksumming: 100%|██████████| 1.19G/1.19G [00:08<00:00, 133MB/s]   \n",
      "Downloading:  66%|██████▋   | 794M/1.20G [00:30<00:14, 27.7MB/s] "
     ]
    }
   ],
   "source": [
    "#downloading the data\n",
    "for i in products:\n",
    "    api.get_product_odata(i)\n",
    "    api.download(i, ds_path)"
   ]
  },
  {
   "cell_type": "code",
   "execution_count": 24,
   "metadata": {},
   "outputs": [],
   "source": [
    "#convert to dataframe\n",
    "products_df = api.to_dataframe(products)"
   ]
  },
  {
   "cell_type": "code",
   "execution_count": 32,
   "metadata": {},
   "outputs": [],
   "source": [
    "#convert to geodataframe\n",
    "#import geopandas\n",
    "#products_gdf = api.to_geodataframe(products)"
   ]
  },
  {
   "cell_type": "code",
   "execution_count": 31,
   "metadata": {},
   "outputs": [
    {
     "data": {
      "text/plain": [
       "(29, 36)"
      ]
     },
     "execution_count": 31,
     "metadata": {},
     "output_type": "execute_result"
    }
   ],
   "source": [
    "products_df.shape"
   ]
  },
  {
   "cell_type": "code",
   "execution_count": null,
   "metadata": {},
   "outputs": [],
   "source": []
  }
 ],
 "metadata": {
  "kernelspec": {
   "display_name": "Python 3.8.2 64-bit",
   "language": "python",
   "name": "python38264bit207e6ce0911b4e3984d5e1810a290e1b"
  },
  "language_info": {
   "codemirror_mode": {
    "name": "ipython",
    "version": 3
   },
   "file_extension": ".py",
   "mimetype": "text/x-python",
   "name": "python",
   "nbconvert_exporter": "python",
   "pygments_lexer": "ipython3",
   "version": "3.8.2"
  }
 },
 "nbformat": 4,
 "nbformat_minor": 4
}
