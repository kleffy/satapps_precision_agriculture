{
 "cells": [
  {
   "cell_type": "code",
   "execution_count": 1,
   "metadata": {},
   "outputs": [
    {
     "name": "stdout",
     "output_type": "stream",
     "text": [
      "Collecting sentinelsat\n",
      "  Downloading sentinelsat-0.14-py2.py3-none-any.whl (36 kB)\n",
      "Collecting geomet\n",
      "  Downloading geomet-0.2.1.post1-py3-none-any.whl (18 kB)\n",
      "Requirement already satisfied: requests in c:\\programdata\\anaconda3\\lib\\site-packages (from sentinelsat) (2.23.0)\n",
      "Requirement already satisfied: six in c:\\users\\kleffy\\appdata\\roaming\\python\\python37\\site-packages (from sentinelsat) (1.12.0)\n",
      "Collecting html2text\n",
      "  Downloading html2text-2020.1.16-py3-none-any.whl (32 kB)\n",
      "Collecting geojson>=2\n",
      "  Downloading geojson-2.5.0-py2.py3-none-any.whl (14 kB)\n",
      "Requirement already satisfied: tqdm in c:\\programdata\\anaconda3\\lib\\site-packages (from sentinelsat) (4.44.1)\n",
      "Requirement already satisfied: click in c:\\programdata\\anaconda3\\lib\\site-packages (from sentinelsat) (7.1.1)\n",
      "Requirement already satisfied: chardet<4,>=3.0.2 in c:\\programdata\\anaconda3\\lib\\site-packages (from requests->sentinelsat) (3.0.4)\n",
      "Requirement already satisfied: certifi>=2017.4.17 in c:\\programdata\\anaconda3\\lib\\site-packages (from requests->sentinelsat) (2020.4.5.1)\n",
      "Requirement already satisfied: urllib3!=1.25.0,!=1.25.1,<1.26,>=1.21.1 in c:\\programdata\\anaconda3\\lib\\site-packages (from requests->sentinelsat) (1.25.8)\n",
      "Requirement already satisfied: idna<3,>=2.5 in c:\\programdata\\anaconda3\\lib\\site-packages (from requests->sentinelsat) (2.9)\n",
      "Installing collected packages: geomet, html2text, geojson, sentinelsat\n",
      "Successfully installed geojson-2.5.0 geomet-0.2.1.post1 html2text-2020.1.16 sentinelsat-0.14\n"
     ]
    }
   ],
   "source": [
    "!pip install sentinelsat"
   ]
  },
  {
   "cell_type": "code",
   "execution_count": 5,
   "metadata": {},
   "outputs": [],
   "source": [
    "from sentinelsat import SentinelAPI, read_geojson,geojson_to_wkt\n"
   ]
  },
  {
   "cell_type": "code",
   "execution_count": 16,
   "metadata": {},
   "outputs": [],
   "source": [
    "from datetime import date"
   ]
  },
  {
   "cell_type": "code",
   "execution_count": 19,
   "metadata": {},
   "outputs": [],
   "source": [
    "ds_path = r'D:\\School\\Strathclyde\\EF_900\\Data\\SentinelSatData\\L2' #download storage path"
   ]
  },
  {
   "cell_type": "code",
   "execution_count": 10,
   "metadata": {},
   "outputs": [],
   "source": [
    "username = 'kleffy'\n",
    "password = 'badboy12@ADL'\n",
    "\n",
    "api = SentinelAPI(username, password)"
   ]
  },
  {
   "cell_type": "code",
   "execution_count": 11,
   "metadata": {},
   "outputs": [],
   "source": [
    "#get area of interest\n",
    "footprint = geojson_to_wkt(read_geojson(r'footprint.geojson'))"
   ]
  },
  {
   "cell_type": "code",
   "execution_count": 18,
   "metadata": {},
   "outputs": [
    {
     "name": "stdout",
     "output_type": "stream",
     "text": [
      "29\n"
     ]
    }
   ],
   "source": [
    "#query resultset\n",
    "products = api.query(footprint,\n",
    "                     date=('20190601', date(2019, 9, 30)),\n",
    "                     platformname='Sentinel-2',\n",
    "                     processinglevel='Level-2A',\n",
    "                     cloudcoverpercentage=(0, 30))\n",
    "print(len(products))"
   ]
  },
  {
   "cell_type": "code",
   "execution_count": 23,
   "metadata": {},
   "outputs": [
    {
     "name": "stderr",
     "output_type": "stream",
     "text": [
      "Downloading: 100%|██████████| 813M/813M [00:42<00:00, 19.0MB/s] \n",
      "MD5 checksumming: 100%|██████████| 813M/813M [00:20<00:00, 38.8MB/s]    \n",
      "Downloading: 100%|██████████| 786M/786M [00:29<00:00, 26.4MB/s] \n",
      "MD5 checksumming: 100%|██████████| 786M/786M [00:06<00:00, 115MB/s]    \n",
      "Downloading: 100%|██████████| 504M/504M [00:18<00:00, 26.5MB/s] \n",
      "MD5 checksumming: 100%|██████████| 504M/504M [00:01<00:00, 330MB/s] \n",
      "Downloading: 100%|██████████| 1.15G/1.15G [00:42<00:00, 27.3MB/s]\n",
      "MD5 checksumming: 100%|██████████| 1.15G/1.15G [00:08<00:00, 141MB/s]   \n",
      "Downloading: 100%|██████████| 1.07G/1.07G [00:39<00:00, 27.2MB/s]\n",
      "MD5 checksumming: 100%|██████████| 1.07G/1.07G [00:03<00:00, 311MB/s]\n",
      "Downloading: 100%|██████████| 1.07G/1.07G [00:39<00:00, 27.1MB/s]\n",
      "MD5 checksumming: 100%|██████████| 1.07G/1.07G [00:03<00:00, 331MB/s]\n",
      "Downloading: 100%|██████████| 871M/871M [00:31<00:00, 27.3MB/s] \n",
      "MD5 checksumming: 100%|██████████| 871M/871M [00:02<00:00, 316MB/s] \n",
      "Downloading: 100%|██████████| 1.19G/1.19G [00:45<00:00, 26.2MB/s]\n",
      "MD5 checksumming: 100%|██████████| 1.19G/1.19G [00:06<00:00, 186MB/s]   \n",
      "Downloading: 100%|██████████| 813M/813M [00:31<00:00, 25.8MB/s] \n",
      "MD5 checksumming: 100%|██████████| 813M/813M [00:02<00:00, 280MB/s] \n",
      "Downloading: 100%|██████████| 513M/513M [00:19<00:00, 26.6MB/s] \n",
      "MD5 checksumming: 100%|██████████| 513M/513M [00:01<00:00, 305MB/s] \n",
      "Downloading: 100%|██████████| 1.23G/1.23G [00:53<00:00, 23.0MB/s]\n",
      "MD5 checksumming: 100%|██████████| 1.23G/1.23G [00:09<00:00, 123MB/s]    \n",
      "Downloading: 100%|██████████| 1.10G/1.10G [00:44<00:00, 24.5MB/s]\n",
      "MD5 checksumming: 100%|██████████| 1.10G/1.10G [00:04<00:00, 266MB/s]\n",
      "Downloading: 100%|██████████| 895M/895M [00:33<00:00, 26.5MB/s] \n",
      "MD5 checksumming: 100%|██████████| 895M/895M [00:03<00:00, 237MB/s]  \n",
      "Downloading: 100%|██████████| 893M/893M [00:33<00:00, 26.6MB/s] \n",
      "MD5 checksumming: 100%|██████████| 893M/893M [00:03<00:00, 272MB/s]    \n",
      "Downloading: 100%|██████████| 781M/781M [00:41<00:00, 18.7MB/s] \n",
      "MD5 checksumming: 100%|██████████| 781M/781M [00:03<00:00, 245MB/s] \n",
      "Downloading: 100%|██████████| 803M/803M [00:29<00:00, 27.2MB/s] \n",
      "MD5 checksumming: 100%|██████████| 803M/803M [00:02<00:00, 275MB/s] \n",
      "Downloading: 100%|██████████| 508M/508M [00:20<00:00, 24.7MB/s] \n",
      "MD5 checksumming: 100%|██████████| 508M/508M [00:01<00:00, 318MB/s] \n",
      "Downloading: 100%|██████████| 1.21G/1.21G [00:59<00:00, 20.3MB/s]\n",
      "MD5 checksumming: 100%|██████████| 1.21G/1.21G [00:03<00:00, 342MB/s]\n",
      "Downloading: 100%|██████████| 1.20G/1.20G [00:44<00:00, 27.0MB/s]\n",
      "MD5 checksumming: 100%|██████████| 1.20G/1.20G [00:03<00:00, 344MB/s]\n",
      "Downloading: 100%|██████████| 1.17G/1.17G [00:42<00:00, 27.2MB/s]\n",
      "MD5 checksumming: 100%|██████████| 1.17G/1.17G [00:03<00:00, 329MB/s]\n",
      "Downloading: 100%|██████████| 877M/877M [00:33<00:00, 25.9MB/s] \n",
      "MD5 checksumming: 100%|██████████| 877M/877M [00:02<00:00, 292MB/s] \n",
      "Downloading: 100%|██████████| 764M/764M [00:30<00:00, 25.5MB/s] \n",
      "MD5 checksumming: 100%|██████████| 764M/764M [00:03<00:00, 225MB/s] \n",
      "Downloading: 100%|██████████| 824M/824M [00:33<00:00, 24.3MB/s] \n",
      "MD5 checksumming: 100%|██████████| 824M/824M [00:04<00:00, 198MB/s]    \n",
      "Downloading: 100%|██████████| 1.21G/1.21G [00:44<00:00, 27.2MB/s]\n",
      "MD5 checksumming: 100%|██████████| 1.21G/1.21G [00:03<00:00, 329MB/s]\n",
      "Downloading: 100%|██████████| 1.20G/1.20G [00:43<00:00, 27.3MB/s]\n",
      "MD5 checksumming: 100%|██████████| 1.20G/1.20G [00:03<00:00, 335MB/s]\n",
      "Downloading: 100%|██████████| 528M/528M [00:19<00:00, 27.0MB/s] \n",
      "MD5 checksumming: 100%|██████████| 528M/528M [00:01<00:00, 339MB/s] \n",
      "Downloading: 100%|██████████| 1.21G/1.21G [00:44<00:00, 27.1MB/s]\n",
      "MD5 checksumming: 100%|██████████| 1.21G/1.21G [00:03<00:00, 316MB/s]\n",
      "Downloading: 100%|██████████| 895M/895M [00:32<00:00, 27.3MB/s] \n",
      "MD5 checksumming: 100%|██████████| 895M/895M [00:02<00:00, 328MB/s] \n",
      "Downloading: 100%|██████████| 1.09G/1.09G [00:54<00:00, 20.0MB/s]\n",
      "MD5 checksumming: 100%|██████████| 1.09G/1.09G [00:03<00:00, 334MB/s]\n"
     ]
    }
   ],
   "source": [
    "#downloading the data\n",
    "for i in products:\n",
    "    api.get_product_odata(i)\n",
    "    api.download(i, ds_path)"
   ]
  },
  {
   "cell_type": "code",
   "execution_count": 24,
   "metadata": {},
   "outputs": [],
   "source": [
    "#convert to dataframe\n",
    "products_df = api.to_dataframe(products)"
   ]
  },
  {
   "cell_type": "code",
   "execution_count": 32,
   "metadata": {},
   "outputs": [],
   "source": [
    "#convert to geodataframe\n",
    "#import geopandas\n",
    "#products_gdf = api.to_geodataframe(products)"
   ]
  },
  {
   "cell_type": "code",
   "execution_count": 31,
   "metadata": {},
   "outputs": [
    {
     "data": {
      "text/plain": [
       "(29, 36)"
      ]
     },
     "execution_count": 31,
     "metadata": {},
     "output_type": "execute_result"
    }
   ],
   "source": [
    "products_df.shape"
   ]
  },
  {
   "cell_type": "code",
   "execution_count": null,
   "metadata": {},
   "outputs": [],
   "source": []
  }
 ],
 "metadata": {
  "kernelspec": {
   "display_name": "Python 3.8.2 64-bit",
   "language": "python",
   "name": "python38264bit207e6ce0911b4e3984d5e1810a290e1b"
  },
  "language_info": {
   "codemirror_mode": {
    "name": "ipython",
    "version": 3
   },
   "file_extension": ".py",
   "mimetype": "text/x-python",
   "name": "python",
   "nbconvert_exporter": "python",
   "pygments_lexer": "ipython3",
   "version": "3.8.2"
  }
 },
 "nbformat": 4,
 "nbformat_minor": 4
}
