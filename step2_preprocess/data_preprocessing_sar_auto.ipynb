{
 "cells": [
  {
   "cell_type": "code",
   "execution_count": null,
   "metadata": {},
   "outputs": [],
   "source": [
    "#import python modules\n",
    "from snappy import ProductIO, GPF, HashMap\n",
    "from glob import iglob\n",
    "from zipfile import ZipFile\n",
    "import os\n",
    "import pandas as pd\n",
    "import numpy as np\n",
    "import subprocess\n",
    "#import matplotlib.colors as colors\n",
    "import matplotlib.image as mpimg\n",
    "import matplotlib.pyplot as plt\n",
    "\n",
    "#import jpy\n",
    "from IPython.core.display import display\n",
    "\n",
    "\n",
    "pd.options.display.max_colwidth = 80"
   ]
  },
  {
   "cell_type": "code",
   "execution_count": null,
   "metadata": {},
   "outputs": [],
   "source": [
    "#how to call gpt from command line\n",
    "#print(subprocess.Popen(['gpt', '-h', 'Subset'], stdout=subprocess.PIPE, universal_newlines=True).communicate()[0])\n"
   ]
  },
  {
   "cell_type": "code",
   "execution_count": null,
   "metadata": {},
   "outputs": [],
   "source": [
    "#HashMap = snappy.jpy.get_type('java.util.HashMap')\n",
    "# Get snappy Operators\n",
    "GPF.getDefaultInstance().getOperatorSpiRegistry().loadOperatorSpis()\n",
    "\n",
    "source_path = r'D:\\School\\Strathclyde\\EF_900\\Data\\SentinelSatData\\Rice\\S1\\prev'\n",
    "dest_path = r'D:\\School\\Strathclyde\\EF_900\\Data\\SentinelSatData\\Rice\\S1\\prev\\preprocessed\\\\'\n"
   ]
  },
  {
   "cell_type": "code",
   "execution_count": null,
   "metadata": {},
   "outputs": [],
   "source": [
    "def display_product_preview(product, band, min_vv, max_vv, min_vh, max_vh):\n",
    "    band_data_list = []\n",
    "    \n",
    "    for i in band:\n",
    "        band = product.getBand(i)\n",
    "        w = band.getRasterWidth()\n",
    "        h = band.getRasterHeight()\n",
    "        band_data = np.zeros(w * h, np.float32)\n",
    "        band.readPixels(0, 0, w, h, band_data)\n",
    "        band_data.shape = h, w\n",
    "        band_data_list.append(band_data)\n",
    "        \n",
    "    fig, (ax1, ax2) = plt.subplots(1, 2, figsize=(16, 16))\n",
    "    ax1.imshow(band_data_list[0], cmap='gray', vmin=min_vv, vmax=max_vv)\n",
    "    ax1.set_title(output_bands[0])\n",
    "    ax2.imshow(band_data_list[1], cmap='gray', vmin=min_vh, vmax=max_vh)\n",
    "    ax2.set_title(output_bands[1])\n",
    "    \n",
    "    for ax in fig.get_axes():\n",
    "        ax.label_outer()"
   ]
  },
  {
   "cell_type": "code",
   "execution_count": null,
   "metadata": {},
   "outputs": [],
   "source": [
    "def write_product(data, file_path, format=None):\n",
    "    # allowed format are\n",
    "    # GeoTIFF-BigTIFF,HDF5,Snaphu,BEAM-DIMAP,GeoTIFF+XML,PolSARPro,NetCDF-CF,NetCDF-BEAM,ENVI,JP2,Generic Binary BSQ,Gamma,CSV,NetCDF4-CF,GeoTIFF,NetCDF4-BEAM\n",
    "    ProductIO.writeProduct(data, file_path, format if format else 'BEAM-DIMAP')\n"
   ]
  },
  {
   "cell_type": "code",
   "execution_count": null,
   "metadata": {},
   "outputs": [],
   "source": [
    "def create_product_subset()"
   ]
  },
  {
   "cell_type": "code",
   "execution_count": null,
   "metadata": {},
   "outputs": [],
   "source": [
    "def apply_orbit_file(data, datestamp):\n",
    "    params = HashMap()\n",
    "    orbit = GPF.createProduct('Apply-Orbit-File', params, data)\n",
    "    # write_product(orbit, os.path.join(dest_path, '{}_Orb'.format(datestamp)))\n",
    "    return orbit\n"
   ]
  },
  {
   "cell_type": "code",
   "execution_count": null,
   "metadata": {},
   "outputs": [],
   "source": [
    "def do_calibration(orbit, datestamp):\n",
    "    params = HashMap()\n",
    "    params.put('outputSigmaBand', False)\n",
    "    params.put('outputGammaBand', False)\n",
    "    params.put('outputBetaBand', True)\n",
    "    calibration = GPF.createProduct('Calibration', params, orbit)\n",
    "    # write_product(calibration, os.path.join(dest_path, '{}_Orb_Cal'.format(datestamp)))\n",
    "    return calibration\n"
   ]
  },
  {
   "cell_type": "code",
   "execution_count": null,
   "metadata": {},
   "outputs": [],
   "source": [
    "def perform_multilook(calibration, datestamp, range_look_number=3, azimuth_look_number=3):\n",
    "    params = HashMap()\n",
    "    params.put('nRgLooks', range_look_number)\n",
    "    params.put('nAzLooks', azimuth_look_number)\n",
    "    params.put('outputIntensity', True)\n",
    "    params.put('grSquarePixel', True)\n",
    "    multilook = GPF.createProduct('Multilook', params, calibration)\n",
    "    # write_product(multilook, os.path.join(dest_path, '{}_Orb_Cal_ML'.format(datestamp)))\n",
    "    return multilook\n"
   ]
  },
  {
   "cell_type": "code",
   "execution_count": null,
   "metadata": {},
   "outputs": [],
   "source": [
    "def perform_terrain_flattening(multilook, datestamp):\n",
    "    params = HashMap()\n",
    "    params.put('demName', 'SRTM 1Sec HGT')\n",
    "    params.put('demResamplingMethod', 'BICUBIC_INTERPOLATION')\n",
    "    params.put('oversamplingMultiple', 1.5)\n",
    "    params.put('additionalOverlap', 0.1)\n",
    "    terrain = GPF.createProduct('Terrain-Flattening', params, multilook)\n",
    "    # write_product(terrain, os.path.join(dest_path, '{}_Orb_Cal_ML_TF'.format(datestamp)))\n",
    "    return terrain"
   ]
  },
  {
   "cell_type": "code",
   "execution_count": null,
   "metadata": {},
   "outputs": [],
   "source": [
    "def dem_coregistration(terrain, datestamp):\n",
    "    params = HashMap()\n",
    "    params.put('demName', 'SRTM 1Sec HGT')\n",
    "    params.put('demResamplingMethod', 'BICUBIC_INTERPOLATION')\n",
    "    # not sure if BILINEAR_INTERPOLATION would produce anything different\n",
    "    # worth checking\n",
    "    params.put('resamplingType', 'BICUBIC_INTERPOLATION')\n",
    "    params.put('tileExtensionPercent', 100)\n",
    "    params.put('maskOutAreaWithoutElevation', True)\n",
    "    coregistered = GPF.createProduct('DEM-Assisted-Coregistration', params, terrain)\n",
    "    write_product(coregistered, os.path.join(dest_path, '{}_Orb_Cal_ML_TF_Stack'.format(datestamp)))\n",
    "    return coregistered"
   ]
  },
  {
   "cell_type": "code",
   "execution_count": null,
   "metadata": {},
   "outputs": [],
   "source": [
    "def speckle_reduction(data, datestamp):\n",
    "    params = HashMap()\n",
    "    params.put('filter', 'Lee Sigma')\n",
    "    params.put('enl', 4.0)\n",
    "    params.put('numLooksStr', '4')\n",
    "    params.put('windowSize', '9x9')\n",
    "    params.put('sigmaStr', '0.9')\n",
    "    params.put('targetWindowSizeStr', '5x5')\n",
    "    speckle = GPF.createProduct('Speckle-Filter', params, data)\n",
    "    # write_product(speckle, os.path.join(dest_path, '{}_Orb_Cal_ML_TF_Stack_Spk'.format(datestamp)))\n",
    "    return speckle"
   ]
  },
  {
   "cell_type": "code",
   "execution_count": null,
   "metadata": {},
   "outputs": [],
   "source": [
    "def ellipsoid_correction(speckle, datestamp):\n",
    "    params = HashMap()\n",
    "    params.put('imgResamplingMethod', 'BILINEAR_INTERPOLATION')\n",
    "    params.put('mapProjection', 'WGS84(DD)')\n",
    "    ec = GPF.createProduct('Ellipsoid-Correction-GG', params, speckle)\n",
    "    write_product(ec, os.path.join(dest_path, '{}_Orb_Cal_ML_TF_Stack_Spk_EC'.format(datestamp)))\n",
    "    write_product(ec, os.path.join(dest_path, '{}_Orb_Cal_ML_TF_Stack_Spk_EC'.format(datestamp)), format='GeoTIFF')\n",
    "    return ec"
   ]
  },
  {
   "cell_type": "code",
   "execution_count": null,
   "metadata": {},
   "outputs": [],
   "source": [
    "def process(file):\n",
    "    data = ProductIO.readProduct(os.path.join(input, file))\n",
    "    # get the end date from the file name and get first 8 substring as YYYYmmdd\n",
    "    datestamp = file.split('_')[4][:8]\n",
    "    orbit = apply_orbit_file(data, datestamp)\n",
    "    calibration = do_calibration(orbit, datestamp)\n",
    "    multilook = perform_multilook(calibration, datestamp)\n",
    "    terrain = perform_terrain_flattening(multilook, datestamp)\n",
    "    # coregistered = dem_coregistration(terrain, datestamp)\n",
    "    speckle = speckle_reduction(terrain, datestamp)\n",
    "    final = ellipsoid_correction(speckle, datestamp)\n",
    "    print('finished')\n",
    "    return True"
   ]
  },
  {
   "cell_type": "code",
   "execution_count": null,
   "metadata": {},
   "outputs": [],
   "source": [
    "def set_path():\n",
    "    os.path.dirname(os.path.dirname(__file__))\n",
    "    path = os.path.join(os.getcwd())\n",
    "    os.chdir(path)\n",
    "    return path"
   ]
  },
  {
   "cell_type": "code",
   "execution_count": null,
   "metadata": {},
   "outputs": [],
   "source": [
    "def main():\n",
    "    path = set_path()\n",
    "    files = [f for f in os.listdir(source_path) if f.endswith('.zip')]\n",
    "    for file in files:\n",
    "        status = process(file)\n",
    "\n",
    "\n",
    "if __name__ == '__main__':\n",
    "    main()"
   ]
  }
 ],
 "metadata": {
  "kernelspec": {
   "display_name": "PyCharm (snap_snappy_test)",
   "language": "python",
   "name": "pycharm-1866b676"
  },
  "language_info": {
   "codemirror_mode": {
    "name": "ipython",
    "version": 3
   },
   "file_extension": ".py",
   "mimetype": "text/x-python",
   "name": "python",
   "nbconvert_exporter": "python",
   "pygments_lexer": "ipython3",
   "version": "3.6.11"
  }
 },
 "nbformat": 4,
 "nbformat_minor": 4
}
